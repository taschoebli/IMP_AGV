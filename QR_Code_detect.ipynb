{
 "cells": [
  {
   "cell_type": "markdown",
   "metadata": {},
   "source": [
    "QR Code Detection"
   ]
  },
  {
   "cell_type": "code",
   "execution_count": 1,
   "metadata": {},
   "outputs": [],
   "source": [
    "import ipywidgets.widgets as widgets\n",
    "import traitlets\n",
    "import cv2\n",
    "import numpy as np\n",
    "import PIL.Image\n",
    "import time\n",
    "import datetime\n",
    "from jetbot import Robot\n",
    "from jetbot import Camera\n",
    "from jetbot import bgr8_to_jpeg"
   ]
  },
  {
   "cell_type": "code",
   "execution_count": 2,
   "metadata": {},
   "outputs": [
    {
     "name": "stdout",
     "output_type": "stream",
     "text": [
      "OpenCV version: 4.1.1\n"
     ]
    }
   ],
   "source": [
    "print(\"OpenCV version:\", cv2.__version__)"
   ]
  },
  {
   "cell_type": "code",
   "execution_count": 2,
   "metadata": {},
   "outputs": [
    {
     "data": {
      "application/vnd.jupyter.widget-view+json": {
       "model_id": "ca8164a48ab343d2a6876b66ef16dbba",
       "version_major": 2,
       "version_minor": 0
      },
      "text/plain": [
       "Image(value=b'', format='jpeg', height='492', width='656')"
      ]
     },
     "metadata": {},
     "output_type": "display_data"
    }
   ],
   "source": [
    "image = widgets.Image(format='jpeg', width=656, height=492)\n",
    "display(image)"
   ]
  },
  {
   "cell_type": "code",
   "execution_count": 3,
   "metadata": {},
   "outputs": [],
   "source": [
    "camera = Camera.instance(width=3280, height=2464)\n",
    "camera_link = traitlets.dlink((camera, 'value'), (image, 'value'), transform=bgr8_to_jpeg)"
   ]
  },
  {
   "cell_type": "code",
   "execution_count": 6,
   "metadata": {},
   "outputs": [
    {
     "ename": "NameError",
     "evalue": "name 'camera' is not defined",
     "output_type": "error",
     "traceback": [
      "\u001b[0;31m\u001b[0m",
      "\u001b[0;31mNameError\u001b[0mTraceback (most recent call last)",
      "\u001b[0;32m<ipython-input-6-b0ed2353a763>\u001b[0m in \u001b[0;36m<module>\u001b[0;34m\u001b[0m\n\u001b[0;32m----> 1\u001b[0;31m \u001b[0mcamera\u001b[0m\u001b[0;34m.\u001b[0m\u001b[0mstop\u001b[0m\u001b[0;34m(\u001b[0m\u001b[0;34m)\u001b[0m\u001b[0;34m\u001b[0m\u001b[0;34m\u001b[0m\u001b[0m\n\u001b[0m",
      "\u001b[0;31mNameError\u001b[0m: name 'camera' is not defined"
     ]
    }
   ],
   "source": [
    "camera.stop()"
   ]
  },
  {
   "cell_type": "code",
   "execution_count": 4,
   "metadata": {},
   "outputs": [
    {
     "data": {
      "application/vnd.jupyter.widget-view+json": {
       "model_id": "4eb2e3f5ee0047b7b3d11729b7a660ca",
       "version_major": 2,
       "version_minor": 0
      },
      "text/plain": [
       "Label(value='QR Code: None')"
      ]
     },
     "metadata": {},
     "output_type": "display_data"
    }
   ],
   "source": [
    "# Label widget to display QR code data in the notebook\n",
    "qr_code_display = widgets.Label(value=\"QR Code: None\")\n",
    "display(qr_code_display)"
   ]
  },
  {
   "cell_type": "code",
   "execution_count": 7,
   "metadata": {},
   "outputs": [],
   "source": [
    "def detect_qr_code(image):\n",
    "    timestamp = '{:%Y-%m-%d %H:%M:%S}'.format(datetime.datetime.now())\n",
    "    #image = PIL.Image.fromarray(image)\n",
    "    # Convert the image to a format compatible with OpenCV (assuming it's a PIL image)\n",
    "    # check image type, no need to convert if numpy.ndarray\n",
    "    print(type(image))\n",
    "    print(image.shape)\n",
    "    #image_cv = np.array(image)\n",
    "    gray = cv2.cvtColor(image, cv2.COLOR_BGR2GRAY)\n",
    "    edges = cv2.Canny(gray, 100, 200)\n",
    "\n",
    "    #cv2.imwrite(f'output_image_{timestamp}.jpg', image)\n",
    "    #cv2.imwrite(f'output_gray_{timestamp}.jpg', gray)\n",
    "    #cv2.imwrite(f'output_edges_{timestamp}.jpg', edges)\n",
    "    \n",
    "    # Initialize the QR code detector\n",
    "    qr_decoder = cv2.QRCodeDetector()\n",
    "    #qr_decoder = cv2.BarcodeDetector()\n",
    "    \n",
    "    # Detect and decode the QR code\n",
    "    data, points, _ = qr_decoder.detectAndDecode(image)\n",
    "    if points is not None and data:\n",
    "        # QR code detected and decoded\n",
    "        print(f\"Code detected! {data}\")\n",
    "        qr_code_display.value = f\"QR Code: {data}\"  # Return the decoded data (the content of the QR code)\n",
    "    else:\n",
    "        # No QR code found\n",
    "        #print(\"No Code detected!\")\n",
    "        return None"
   ]
  },
  {
   "cell_type": "code",
   "execution_count": 8,
   "metadata": {},
   "outputs": [
    {
     "name": "stdout",
     "output_type": "stream",
     "text": [
      "<class 'numpy.ndarray'>\n",
      "(2464, 3280, 3)\n",
      "<class 'numpy.ndarray'>\n",
      "(2464, 3280, 3)\n",
      "<class 'numpy.ndarray'>\n",
      "(2464, 3280, 3)\n",
      "<class 'numpy.ndarray'>\n",
      "(2464, 3280, 3)\n",
      "<class 'numpy.ndarray'>\n",
      "(2464, 3280, 3)\n",
      "<class 'numpy.ndarray'>\n",
      "(2464, 3280, 3)\n",
      "<class 'numpy.ndarray'>\n",
      "(2464, 3280, 3)\n",
      "<class 'numpy.ndarray'>\n",
      "(2464, 3280, 3)\n",
      "<class 'numpy.ndarray'>\n",
      "(2464, 3280, 3)\n",
      "<class 'numpy.ndarray'>\n",
      "(2464, 3280, 3)\n",
      "<class 'numpy.ndarray'>\n",
      "(2464, 3280, 3)\n",
      "<class 'numpy.ndarray'>\n",
      "(2464, 3280, 3)\n",
      "<class 'numpy.ndarray'>\n",
      "(2464, 3280, 3)\n",
      "<class 'numpy.ndarray'>\n",
      "(2464, 3280, 3)\n",
      "<class 'numpy.ndarray'>\n",
      "(2464, 3280, 3)\n",
      "<class 'numpy.ndarray'>\n",
      "(2464, 3280, 3)\n",
      "<class 'numpy.ndarray'>\n",
      "(2464, 3280, 3)\n",
      "<class 'numpy.ndarray'>\n",
      "(2464, 3280, 3)\n",
      "<class 'numpy.ndarray'>\n",
      "(2464, 3280, 3)\n",
      "<class 'numpy.ndarray'>\n",
      "(2464, 3280, 3)\n",
      "<class 'numpy.ndarray'>\n",
      "(2464, 3280, 3)\n",
      "<class 'numpy.ndarray'>\n",
      "(2464, 3280, 3)\n",
      "<class 'numpy.ndarray'>\n",
      "(2464, 3280, 3)\n",
      "<class 'numpy.ndarray'>\n",
      "(2464, 3280, 3)\n",
      "<class 'numpy.ndarray'>\n",
      "(2464, 3280, 3)\n",
      "<class 'numpy.ndarray'>\n",
      "(2464, 3280, 3)\n",
      "<class 'numpy.ndarray'>\n",
      "(2464, 3280, 3)\n",
      "<class 'numpy.ndarray'>\n",
      "(2464, 3280, 3)\n",
      "<class 'numpy.ndarray'>\n",
      "(2464, 3280, 3)\n",
      "<class 'numpy.ndarray'>\n",
      "(2464, 3280, 3)\n",
      "<class 'numpy.ndarray'>\n",
      "(2464, 3280, 3)\n",
      "<class 'numpy.ndarray'>\n",
      "(2464, 3280, 3)\n",
      "<class 'numpy.ndarray'>\n",
      "(2464, 3280, 3)\n",
      "<class 'numpy.ndarray'>\n",
      "(2464, 3280, 3)\n",
      "<class 'numpy.ndarray'>\n",
      "(2464, 3280, 3)\n",
      "<class 'numpy.ndarray'>\n",
      "(2464, 3280, 3)\n",
      "<class 'numpy.ndarray'>\n",
      "(2464, 3280, 3)\n",
      "<class 'numpy.ndarray'>\n",
      "(2464, 3280, 3)\n",
      "<class 'numpy.ndarray'>\n",
      "(2464, 3280, 3)\n",
      "<class 'numpy.ndarray'>\n",
      "(2464, 3280, 3)\n",
      "<class 'numpy.ndarray'>\n",
      "(2464, 3280, 3)\n",
      "<class 'numpy.ndarray'>\n",
      "(2464, 3280, 3)\n",
      "<class 'numpy.ndarray'>\n",
      "(2464, 3280, 3)\n",
      "<class 'numpy.ndarray'>\n",
      "(2464, 3280, 3)\n",
      "<class 'numpy.ndarray'>\n",
      "(2464, 3280, 3)\n",
      "<class 'numpy.ndarray'>\n",
      "(2464, 3280, 3)\n",
      "<class 'numpy.ndarray'>\n",
      "(2464, 3280, 3)\n",
      "<class 'numpy.ndarray'>\n",
      "(2464, 3280, 3)\n",
      "<class 'numpy.ndarray'>\n",
      "(2464, 3280, 3)\n",
      "<class 'numpy.ndarray'>\n",
      "(2464, 3280, 3)\n",
      "<class 'numpy.ndarray'>\n",
      "(2464, 3280, 3)\n",
      "<class 'numpy.ndarray'>\n",
      "(2464, 3280, 3)\n",
      "<class 'numpy.ndarray'>\n",
      "(2464, 3280, 3)\n",
      "<class 'numpy.ndarray'>\n",
      "(2464, 3280, 3)\n",
      "<class 'numpy.ndarray'>\n",
      "(2464, 3280, 3)\n",
      "<class 'numpy.ndarray'>\n",
      "(2464, 3280, 3)\n",
      "<class 'numpy.ndarray'>\n",
      "(2464, 3280, 3)\n",
      "<class 'numpy.ndarray'>\n",
      "(2464, 3280, 3)\n"
     ]
    },
    {
     "ename": "KeyboardInterrupt",
     "evalue": "",
     "output_type": "error",
     "traceback": [
      "\u001b[0;31m\u001b[0m",
      "\u001b[0;31mKeyboardInterrupt\u001b[0mTraceback (most recent call last)",
      "\u001b[0;32m<ipython-input-8-d5f284a6ad02>\u001b[0m in \u001b[0;36m<module>\u001b[0;34m\u001b[0m\n\u001b[1;32m      2\u001b[0m \u001b[0;32mwhile\u001b[0m\u001b[0;34m(\u001b[0m\u001b[0mvalue\u001b[0m\u001b[0;34m<\u001b[0m\u001b[0;36m100\u001b[0m\u001b[0;34m)\u001b[0m\u001b[0;34m:\u001b[0m\u001b[0;34m\u001b[0m\u001b[0;34m\u001b[0m\u001b[0m\n\u001b[1;32m      3\u001b[0m     \u001b[0mdetect_qr_code\u001b[0m\u001b[0;34m(\u001b[0m\u001b[0mcamera\u001b[0m\u001b[0;34m.\u001b[0m\u001b[0mvalue\u001b[0m\u001b[0;34m)\u001b[0m\u001b[0;34m\u001b[0m\u001b[0;34m\u001b[0m\u001b[0m\n\u001b[0;32m----> 4\u001b[0;31m     \u001b[0mtime\u001b[0m\u001b[0;34m.\u001b[0m\u001b[0msleep\u001b[0m\u001b[0;34m(\u001b[0m\u001b[0;36m2\u001b[0m\u001b[0;34m)\u001b[0m\u001b[0;34m\u001b[0m\u001b[0;34m\u001b[0m\u001b[0m\n\u001b[0m\u001b[1;32m      5\u001b[0m     \u001b[0mvalue\u001b[0m \u001b[0;34m=\u001b[0m \u001b[0mvalue\u001b[0m \u001b[0;34m+\u001b[0m \u001b[0;36m1\u001b[0m\u001b[0;34m\u001b[0m\u001b[0;34m\u001b[0m\u001b[0m\n",
      "\u001b[0;31mKeyboardInterrupt\u001b[0m: "
     ]
    }
   ],
   "source": [
    "value=0\n",
    "while(value<100):\n",
    "    detect_qr_code(camera.value)\n",
    "    time.sleep(2)\n",
    "    value = value + 1"
   ]
  },
  {
   "cell_type": "code",
   "execution_count": null,
   "metadata": {},
   "outputs": [],
   "source": [
    "camera.unobserve(execute, names='value')\n",
    "\n",
    "time.sleep(0.1)  # add a small sleep to make sure frames have finished processing\n"
   ]
  },
  {
   "cell_type": "markdown",
   "metadata": {},
   "source": [
    "Some place to hold stuff for copying"
   ]
  },
  {
   "cell_type": "code",
   "execution_count": null,
   "metadata": {},
   "outputs": [],
   "source": [
    "# Global variable to hold the QR code data\n",
    "qr_code_data = None\n",
    "\n",
    "# Label widget to display QR code data in the notebook\n",
    "qr_code_display = ipywidgets.Label(value=\"QR Code: None\")\n",
    "display(qr_code_display)\n",
    "\n",
    "def detect_qr_code(image):\n",
    "    # Convert the image to a format compatible with OpenCV (assuming it's a PIL image)\n",
    "    image_cv = np.array(image)\n",
    "    \n",
    "    # Initialize the QR code detector\n",
    "    qr_decoder = cv2.QRCodeDetector()\n",
    "    \n",
    "    # Detect and decode the QR code\n",
    "    data, points, _ = qr_decoder.detectAndDecode(image_cv)\n",
    "    \n",
    "    if points is not None and data:\n",
    "        # QR code detected and decoded\n",
    "        return data  # Return the decoded data (the content of the QR code)\n",
    "    else:\n",
    "        # No QR code found\n",
    "        return None\n",
    "    \n",
    "def uTurn(change):\n",
    "    robot.left(0.5)\n",
    "    robot.right(0.5)\n",
    "    time.sleep(1)\n",
    "    robot.stop()\n",
    "\n",
    "#New code begins here\n",
    "    \n",
    "    # QR code detection logic\n",
    "    detected_qr_code = detect_qr_code(image)  # Custom function to detect and decode QR code\n",
    "\n",
    "    if detected_qr_code != None:\n",
    "        qr_code_data = detected_qr_code  # Store the detected QR code data\n",
    "        # Update the display widget with the detected QR code data\n",
    "        qr_code_display.value = f\"QR Code: {qr_code_data}\"\n",
    "        \n",
    "        # Action based on QR code data\n",
    "        uTurn()\n",
    "        \n",
    "        return detected_qr_code\n",
    "    \n",
    "    #End new code begins here"
   ]
  }
 ],
 "metadata": {
  "kernelspec": {
   "display_name": "Python 3",
   "language": "python",
   "name": "python3"
  },
  "language_info": {
   "codemirror_mode": {
    "name": "ipython",
    "version": 3
   },
   "file_extension": ".py",
   "mimetype": "text/x-python",
   "name": "python",
   "nbconvert_exporter": "python",
   "pygments_lexer": "ipython3",
   "version": "3.6.9"
  }
 },
 "nbformat": 4,
 "nbformat_minor": 4
}
