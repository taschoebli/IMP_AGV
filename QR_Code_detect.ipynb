{
 "cells": [
  {
   "cell_type": "markdown",
   "metadata": {},
   "source": [
    "QR Code Detection"
   ]
  },
  {
   "cell_type": "code",
   "execution_count": 1,
   "metadata": {},
   "outputs": [],
   "source": [
    "import ipywidgets.widgets as widgets\n",
    "import traitlets\n",
    "import cv2\n",
    "import numpy as np\n",
    "import PIL.Image\n",
    "import time\n",
    "import datetime\n",
    "from jetbot import Robot\n",
    "from jetbot import Camera\n",
    "from jetbot import bgr8_to_jpeg"
   ]
  },
  {
   "cell_type": "code",
   "execution_count": 2,
   "metadata": {},
   "outputs": [
    {
     "name": "stdout",
     "output_type": "stream",
     "text": [
      "OpenCV version: 4.1.1\n"
     ]
    }
   ],
   "source": [
    "print(\"OpenCV version:\", cv2.__version__)"
   ]
  },
  {
   "cell_type": "code",
   "execution_count": 10,
   "metadata": {},
   "outputs": [
    {
     "name": "stdout",
     "output_type": "stream",
     "text": [
      "Python 3.6.9\n"
     ]
    }
   ],
   "source": [
    "! python3 --version"
   ]
  },
  {
   "cell_type": "code",
   "execution_count": 2,
   "metadata": {},
   "outputs": [
    {
     "data": {
      "application/vnd.jupyter.widget-view+json": {
       "model_id": "414de5b6b31a41ebb3375b7e9bfb2111",
       "version_major": 2,
       "version_minor": 0
      },
      "text/plain": [
       "Image(value=b'', format='jpeg', height='224', width='224')"
      ]
     },
     "metadata": {},
     "output_type": "display_data"
    }
   ],
   "source": [
    "image = widgets.Image(format='jpeg', width=224, height=224)\n",
    "display(image)"
   ]
  },
  {
   "cell_type": "code",
   "execution_count": 3,
   "metadata": {},
   "outputs": [],
   "source": [
    "camera = Camera.instance(width=820, height=616, capture_width=3280, capture_height=2464)\n",
    "camera_link = traitlets.dlink((camera, 'value'), (image, 'value'), transform=bgr8_to_jpeg)"
   ]
  },
  {
   "cell_type": "code",
   "execution_count": null,
   "metadata": {},
   "outputs": [],
   "source": [
    "camera.stop()"
   ]
  },
  {
   "cell_type": "code",
   "execution_count": null,
   "metadata": {},
   "outputs": [],
   "source": [
    "# Label widget to display QR code data in the notebook\n",
    "qr_code_display = widgets.Label(value=\"QR Code: None\")\n",
    "display(qr_code_display)"
   ]
  },
  {
   "cell_type": "code",
   "execution_count": 8,
   "metadata": {},
   "outputs": [],
   "source": [
    "def detect_qr_code(image):\n",
    "    timestamp = '{:%Y-%m-%d %H:%M:%S}'.format(datetime.datetime.now())\n",
    "    #image = PIL.Image.fromarray(image)\n",
    "    # Convert the image to a format compatible with OpenCV (assuming it's a PIL image)\n",
    "    # check image type, no need to convert if numpy.ndarray\n",
    "    #print(type(image))\n",
    "    #print(image.shape)\n",
    "    #image_cv = np.array(image)\n",
    "    gray = cv2.cvtColor(image, cv2.COLOR_BGR2GRAY)\n",
    "    #edges = cv2.Canny(gray, 100, 200)\n",
    "    # Optional: Apply adaptive thresholding to increase contrast\n",
    "    thresh = cv2.adaptiveThreshold(gray, 255, cv2.ADAPTIVE_THRESH_GAUSSIAN_C, cv2.THRESH_BINARY, 11, 2)\n",
    "\n",
    "    #cv2.imwrite(f'output_image_{timestamp}.jpg', image)\n",
    "    #cv2.imwrite(f'thresh_image_{timestamp}.jpg', thresh)\n",
    "    #cv2.imwrite(f'output_gray_{timestamp}.jpg', gray)\n",
    "    #cv2.imwrite(f'output_edges_{timestamp}.jpg', edges)\n",
    "    \n",
    "    # Initialize the QR code detector\n",
    "    qr_decoder = cv2.QRCodeDetector()\n",
    "    #qr_decoder = cv2.BarcodeDetector()\n",
    "    \n",
    "    _, points = qr_decoder.detect(image)\n",
    "    if points is not None:\n",
    "        print(\"QR Code detected, but not decoded\")\n",
    "    else:\n",
    "        print(\"No QR Code detected.\")\n",
    "    \n",
    "    # Detect and decode the QR code\n",
    "    data, points, _ = qr_decoder.detectAndDecode(image)\n",
    "    if points is not None and data:\n",
    "        # QR code detected and decoded\n",
    "        print(f\"Code detected! {data}\")\n",
    "        qr_code_display.value = f\"QR Code: {data}\"  # Return the decoded data (the content of the QR code)\n",
    "    else:\n",
    "        # No QR code found\n",
    "        #print(\"No Code detected!\")\n",
    "        return None"
   ]
  },
  {
   "cell_type": "code",
   "execution_count": 16,
   "metadata": {},
   "outputs": [
    {
     "name": "stdout",
     "output_type": "stream",
     "text": [
      "QR Code detected, but not decoded\n"
     ]
    }
   ],
   "source": [
    "value=0\n",
    "while(value<1):\n",
    "    detect_qr_code(camera.value)\n",
    "    time.sleep(1)\n",
    "    value = value + 1"
   ]
  },
  {
   "cell_type": "code",
   "execution_count": null,
   "metadata": {},
   "outputs": [],
   "source": [
    "camera.value"
   ]
  },
  {
   "cell_type": "code",
   "execution_count": null,
   "metadata": {},
   "outputs": [],
   "source": [
    "camera.unobserve(execute, names='value')\n",
    "\n",
    "time.sleep(0.1)  # add a small sleep to make sure frames have finished processing\n"
   ]
  },
  {
   "cell_type": "markdown",
   "metadata": {},
   "source": [
    "Some place to hold stuff for copying"
   ]
  },
  {
   "cell_type": "code",
   "execution_count": null,
   "metadata": {},
   "outputs": [],
   "source": [
    "# Global variable to hold the QR code data\n",
    "qr_code_data = None\n",
    "\n",
    "# Label widget to display QR code data in the notebook\n",
    "qr_code_display = ipywidgets.Label(value=\"QR Code: None\")\n",
    "display(qr_code_display)\n",
    "\n",
    "def detect_qr_code(image):\n",
    "    # Convert the image to a format compatible with OpenCV (assuming it's a PIL image)\n",
    "    image_cv = np.array(image)\n",
    "    \n",
    "    # Initialize the QR code detector\n",
    "    qr_decoder = cv2.QRCodeDetector()\n",
    "    \n",
    "    # Detect and decode the QR code\n",
    "    data, points, _ = qr_decoder.detectAndDecode(image_cv)\n",
    "    \n",
    "    if points is not None and data:\n",
    "        # QR code detected and decoded\n",
    "        return data  # Return the decoded data (the content of the QR code)\n",
    "    else:\n",
    "        # No QR code found\n",
    "        return None\n",
    "    \n",
    "def uTurn(change):\n",
    "    robot.left(0.5)\n",
    "    robot.right(0.5)\n",
    "    time.sleep(1)\n",
    "    robot.stop()\n",
    "\n",
    "#New code begins here\n",
    "    \n",
    "    # QR code detection logic\n",
    "    detected_qr_code = detect_qr_code(image)  # Custom function to detect and decode QR code\n",
    "\n",
    "    if detected_qr_code != None:\n",
    "        qr_code_data = detected_qr_code  # Store the detected QR code data\n",
    "        # Update the display widget with the detected QR code data\n",
    "        qr_code_display.value = f\"QR Code: {qr_code_data}\"\n",
    "        \n",
    "        # Action based on QR code data\n",
    "        uTurn()\n",
    "        \n",
    "        return detected_qr_code\n",
    "    \n",
    "    #End new code begins here"
   ]
  }
 ],
 "metadata": {
  "kernelspec": {
   "display_name": "Python 3",
   "language": "python",
   "name": "python3"
  },
  "language_info": {
   "codemirror_mode": {
    "name": "ipython",
    "version": 3
   },
   "file_extension": ".py",
   "mimetype": "text/x-python",
   "name": "python",
   "nbconvert_exporter": "python",
   "pygments_lexer": "ipython3",
   "version": "3.6.9"
  }
 },
 "nbformat": 4,
 "nbformat_minor": 4
}
