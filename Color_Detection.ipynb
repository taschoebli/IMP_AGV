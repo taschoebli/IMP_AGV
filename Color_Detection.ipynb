{
 "cells": [
  {
   "cell_type": "markdown",
   "id": "middle-sunset",
   "metadata": {},
   "source": [
    "Color Detection"
   ]
  },
  {
   "cell_type": "code",
   "execution_count": 1,
   "id": "modified-static",
   "metadata": {},
   "outputs": [
    {
     "data": {
      "application/vnd.jupyter.widget-view+json": {
       "model_id": "",
       "version_major": 2,
       "version_minor": 0
      },
      "text/plain": [
       "Image(value=b'\\xff\\xd8\\xff\\xe0\\x00\\x10JFIF\\x00\\x01\\x01\\x00\\x00\\x01\\x00\\x01\\x00\\x00\\xff\\xdb\\x00C\\x00\\x02\\x01\\x0…"
      ]
     },
     "metadata": {},
     "output_type": "display_data"
    },
    {
     "data": {
      "application/vnd.jupyter.widget-view+json": {
       "model_id": "",
       "version_major": 2,
       "version_minor": 0
      },
      "text/plain": [
       "Image(value=b'')"
      ]
     },
     "metadata": {},
     "output_type": "display_data"
    }
   ],
   "source": [
    "import traitlets\n",
    "import ipywidgets\n",
    "from IPython.display import display\n",
    "from jetbot import Camera, bgr8_to_jpeg\n",
    "\n",
    "camera = Camera.instance(width=300, height=300)\n",
    "\n",
    "image_widget = ipywidgets.Image()  # this width and height doesn't necessarily have to match the camera\n",
    "image_widget_mask = ipywidgets.Image()\n",
    "\n",
    "camera_link = traitlets.dlink((camera, 'value'), (image_widget, 'value'), transform=bgr8_to_jpeg)\n",
    "\n",
    "display(image_widget)\n",
    "display(image_widget_mask)"
   ]
  },
  {
   "cell_type": "code",
   "execution_count": 2,
   "id": "attached-observation",
   "metadata": {},
   "outputs": [
    {
     "data": {
      "application/vnd.jupyter.widget-view+json": {
       "model_id": "5304030cb5f1431681aab4e800d7a74c",
       "version_major": 2,
       "version_minor": 0
      },
      "text/plain": [
       "Label(value='HSV: None')"
      ]
     },
     "metadata": {},
     "output_type": "display_data"
    }
   ],
   "source": [
    "import ipywidgets.widgets as widgets\n",
    "hsv_color_display = widgets.Label(value=\"HSV: None\")\n",
    "display(hsv_color_display)"
   ]
  },
  {
   "cell_type": "code",
   "execution_count": null,
   "id": "heavy-sponsorship",
   "metadata": {},
   "outputs": [],
   "source": [
    "import cv2\n",
    "import numpy as np"
   ]
  },
  {
   "cell_type": "code",
   "execution_count": 15,
   "id": "dutch-trick",
   "metadata": {},
   "outputs": [],
   "source": [
    "# Define the color that needs to be recognized.\n",
    "\n",
    "#Yellow #FFFF00 works\n",
    "colorUpper = np.array([44, 255, 255])\n",
    "colorLower = np.array([24, 100, 100])\n",
    "\n",
    "# Red FF0000\n",
    "#colorUpper = np.array([180, 255, 255])\n",
    "#colorLower = np.array([160, 100, 100])\n",
    "\n",
    "# Green #00FF00\n",
    "# colorUpper = np.array([50, 255, 255])\n",
    "# colorLower = np.array([70, 200, 100])\n",
    "\n",
    "# Blue #0000FF\n",
    "#colorUpper = np.array([120, 255, 255])\n",
    "#colorLower = np.array([100, 0, 0])\n",
    "\n",
    "# Cyan #00FFFF\n",
    "# colorUpper = np.array([80, 255, 255])\n",
    "# colorLower = np.array([105, 180, 180])\n",
    "\n",
    "# Magenta #FF00FF\n",
    "# colorUpper = np.array([140, 255, 255])\n",
    "# colorLower = np.array([170, 150, 200])\n",
    "\n",
    "\n",
    "# Position tolerance\n",
    "x_lower = 50\n",
    "x_upper = 250\n",
    "y_lower = 250\n",
    "y_upper = 300\n",
    "min_radius = 20"
   ]
  },
  {
   "cell_type": "code",
   "execution_count": 14,
   "id": "changing-passport",
   "metadata": {},
   "outputs": [],
   "source": [
    "# Color recognition and tracking function.\n",
    "def findColor(imageInput):\n",
    "    # Convert video frames to HSV color space.\n",
    "    hsv = cv2.cvtColor(imageInput, cv2.COLOR_BGR2HSV)\n",
    "    \n",
    "    # Create a mask for pixels that match the target color.\n",
    "    mask = cv2.inRange(hsv, colorLower, colorUpper)\n",
    "    \n",
    "    # Erode, this process will remove the relatively \n",
    "    # small area in the mask just selected, which can be understood as denoising.\n",
    "    mask = cv2.erode(mask, None, iterations=2)\n",
    "    \n",
    "    # dilate, the corrosion process just now will cause the large area to become \n",
    "    # smaller and the small area to disappear. This step is to restore the large area to its previous size.\n",
    "    mask = cv2.dilate(mask, None, iterations=2)\n",
    "    image_widget_mask.value = bgr8_to_jpeg(mask)\n",
    "    \n",
    "    # Obtain the conformed area contour.\n",
    "    cnts = cv2.findContours(mask.copy(), cv2.RETR_EXTERNAL,\n",
    "        cv2.CHAIN_APPROX_SIMPLE)[-2]\n",
    "    center = None\n",
    "    \n",
    "    # If there is a matching area, start to control the movement of the steering gear to achieve color tracking.\n",
    "    if len(cnts) > 0:\n",
    "        # Draw text to show that the target has been found.\n",
    "        imageInput = cv2.putText(imageInput,'Target Detected',(10,20), cv2.FONT_HERSHEY_SIMPLEX, 0.5,(255,255,255),1,cv2.LINE_AA)\n",
    "        \n",
    "        # Find the contour of the largest area.\n",
    "        c = max(cnts, key=cv2.contourArea)\n",
    "        \n",
    "        # Get the location of the center point of this area and the radius of this area.\n",
    "        ((box_x, box_y), radius) = cv2.minEnclosingCircle(c)\n",
    "        M = cv2.moments(c)\n",
    "        center = (int(M[\"m10\"] / M[\"m00\"]), int(M[\"m01\"] / M[\"m00\"]))\n",
    "        \n",
    "        # X, Y are the center points of the area.\n",
    "        X = int(box_x)\n",
    "        Y = int(box_y)\n",
    "        \n",
    "        # error_X, error_Y are the absolute value of the error \n",
    "        # between the center point of the area and the center point of the frame.\n",
    "        error_Y = abs(150 - Y)\n",
    "        error_X = abs(150 - X)\n",
    "        \n",
    "        # Draw the size and position of this area.\n",
    "        cv2.rectangle(imageInput,(int(box_x-radius),int(box_y+radius)),(int(box_x+radius),int(box_y-radius)),(255,255,255),1)\n",
    "        \n",
    "        if radius > min_radius:\n",
    "            imageInput = cv2.putText(imageInput,'Size ok!',(150,20), cv2.FONT_HERSHEY_SIMPLEX, 0.5,(255,255,255),1,cv2.LINE_AA)\n",
    "            \n",
    "            if Y > y_lower and Y < y_upper:\n",
    "                imageInput = cv2.putText(imageInput,'Object in Y-Area!',(10,50), cv2.FONT_HERSHEY_SIMPLEX, 0.5,(255,255,255),1,cv2.LINE_AA)\n",
    "\n",
    "            if X > x_lower and X < x_upper:\n",
    "                # Camera looks left.\n",
    "                imageInput = cv2.putText(imageInput,'Object in X-Area!',(10,80), cv2.FONT_HERSHEY_SIMPLEX, 0.5,(255,255,255),1,cv2.LINE_AA)\n",
    "\n",
    "    # If no area matching the target color is found, the camera stops rotating.\n",
    "    else:\n",
    "        imageInput = cv2.putText(imageInput,'Target Detecting',(10,20), cv2.FONT_HERSHEY_SIMPLEX, 0.5,(255,255,255),1,cv2.LINE_AA)\n",
    "    \n",
    "    return imageInput"
   ]
  },
  {
   "cell_type": "code",
   "execution_count": 6,
   "id": "dressed-ministry",
   "metadata": {},
   "outputs": [],
   "source": [
    "def execute(change):\n",
    "    global image_widget\n",
    "    image = change['new']\n",
    "    image_widget.value = bgr8_to_jpeg(findColor(image))\n",
    "    \n",
    "execute({'new': camera.value})\n",
    "camera.unobserve_all()\n",
    "camera.observe(execute, names='value')"
   ]
  },
  {
   "cell_type": "code",
   "execution_count": null,
   "id": "genuine-entrepreneur",
   "metadata": {},
   "outputs": [],
   "source": [
    "camera.unobserve(execute, names='value')\n",
    "\n",
    "time.sleep(1)\n",
    "camera.stop()"
   ]
  }
 ],
 "metadata": {
  "kernelspec": {
   "display_name": "Python 3",
   "language": "python",
   "name": "python3"
  },
  "language_info": {
   "codemirror_mode": {
    "name": "ipython",
    "version": 3
   },
   "file_extension": ".py",
   "mimetype": "text/x-python",
   "name": "python",
   "nbconvert_exporter": "python",
   "pygments_lexer": "ipython3",
   "version": "3.6.9"
  }
 },
 "nbformat": 4,
 "nbformat_minor": 5
}
